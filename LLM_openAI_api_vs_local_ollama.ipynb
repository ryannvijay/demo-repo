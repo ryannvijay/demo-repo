{
 "cells": [
  {
   "cell_type": "markdown",
   "id": "fe12c203-e6a6-452c-a655-afb8a03a4ff5",
   "metadata": {},
   "source": [
    "# A tool that takes a technical question, and responds with an explanation using OpenAI API or Local Ollama."
   ]
  },
  {
   "cell_type": "code",
   "execution_count": 1,
   "id": "c1070317-3ed9-4659-abe3-828943230e03",
   "metadata": {},
   "outputs": [],
   "source": [
    "# imports\n",
    "\n",
    "from dotenv import load_dotenv\n",
    "from IPython.display import Markdown, display, update_display\n",
    "from openai import OpenAI\n",
    "import ollama"
   ]
  },
  {
   "cell_type": "code",
   "execution_count": 2,
   "id": "4a456906-915a-4bfd-bb9d-57e505c5093f",
   "metadata": {},
   "outputs": [],
   "source": [
    "# constants\n",
    "\n",
    "MODEL_GPT = 'gpt-4o-mini'\n",
    "MODEL_LLAMA = 'llama3.2'"
   ]
  },
  {
   "cell_type": "code",
   "execution_count": 3,
   "id": "a8d7923c-5f28-4c30-8556-342d7c8497c1",
   "metadata": {},
   "outputs": [],
   "source": [
    "# set up environment\n",
    "\n",
    "load_dotenv()\n",
    "openai = OpenAI()\n"
   ]
  },
  {
   "cell_type": "code",
   "execution_count": 4,
   "id": "3f0d0137-52b0-47a8-81a8-11a90a010798",
   "metadata": {},
   "outputs": [],
   "source": [
    "# here is the question; type over this to ask something new\n",
    "\n",
    "question = \"\"\"\n",
    "Please explain what this code does and why:\n",
    "yield from {book.get(\"author\") for book in books if book.get(\"author\")}\n",
    "\"\"\""
   ]
  },
  {
   "cell_type": "code",
   "execution_count": 5,
   "id": "8595807b-8ae2-4e1b-95d9-e8532142e8bb",
   "metadata": {},
   "outputs": [],
   "source": [
    "# prompts\n",
    "\n",
    "system_prompt = \"You are a helpful technical tutor who answers questions about python code, software engineering, data science and LLMs\"\n",
    "user_prompt = \"Please give a detailed explanation to the following question: \" + question"
   ]
  },
  {
   "cell_type": "code",
   "execution_count": 6,
   "id": "9605cbb6-3d3f-4969-b420-7f4cae0b9328",
   "metadata": {},
   "outputs": [],
   "source": [
    "# messages\n",
    "\n",
    "messages = [\n",
    "    {\"role\": \"system\", \"content\": system_prompt},\n",
    "    {\"role\": \"user\", \"content\": user_prompt}\n",
    "]"
   ]
  },
  {
   "cell_type": "code",
   "execution_count": 7,
   "id": "60ce7000-a4a5-4cce-a261-e75ef45063b4",
   "metadata": {},
   "outputs": [
    {
     "data": {
      "text/markdown": [
       "Certainly! Let's break down the provided code snippet step by step to understand what it does and why it’s structured this way.\n",
       "\n",
       "### Code Breakdown\n",
       "python\n",
       "yield from {book.get(\"author\") for book in books if book.get(\"author\")}\n",
       "\n",
       "\n",
       "This line of code can be dissected into a few key components:\n",
       "\n",
       "1. **Set Comprehension** `{...}`: \n",
       "   - The code uses a set comprehension to create a set from a collection of elements. The comprehension iterates over a sequence (in this case, `books`), processing each `book` one by one.\n",
       "   - A set is created because it inherently removes duplicate values. This means that if multiple books have the same author, that author's name will only appear once in the resulting set.\n",
       "\n",
       "2. **Iteration**: \n",
       "   - The code iterates over `books`, which is expected to be a collection (like a list) of dictionaries. Each dictionary represents a book.\n",
       "   - `book.get(\"author\")` is used to retrieve the value associated with the key `\"author\"` for each `book`. If the key doesn’t exist in a particular book dictionary, `get` will return `None` instead of raising a KeyError.\n",
       "\n",
       "3. **Filtering** `if book.get(\"author\")`: \n",
       "   - This part of the comprehension acts as a filter. It ensures that only books with a valid (non-None and non-empty) author are considered. If `book.get(\"author\")` returns a truthy value (i.e., a non-empty string), then the value is included in the set.\n",
       "   \n",
       "4. **`yield from`**: \n",
       "   - This keyword is typically used in a generator function to yield values from another iterable. It simplifies the process of yielding all values from an iterable without needing to loop through it manually.\n",
       "   - By using `yield from`, the generator function will yield each author from the resulting set one at a time. This makes it easy to produce values in a memory-efficient way since `yield` generates values on-the-fly.\n",
       "\n",
       "### Overall Functionality\n",
       "1. **Purpose**: \n",
       "   - The overall functionality of the code is to extract unique authors from a list of book dictionaries and yield them as a sequence.\n",
       " \n",
       "2. **Example Usage**:\n",
       "   - If `books` were structured like this:\n",
       "     python\n",
       "     books = [\n",
       "         {\"title\": \"Book A\", \"author\": \"Author X\"},\n",
       "         {\"title\": \"Book B\", \"author\": \"Author Y\"},\n",
       "         {\"title\": \"Book C\", \"author\": \"Author X\"},\n",
       "         {\"title\": \"Book D\"},  # No author\n",
       "     ]\n",
       "     \n",
       "   - The set comprehension would produce `{'Author X', 'Author Y'}`. Then, `yield from` would provide each author to the caller of the generator function one at a time when iterated over.\n",
       "\n",
       "### Conclusion\n",
       "The use of `yield from {book.get(\"author\") for book in books if book.get(\"author\")}` is a concise and efficient way to gather all unique authors from a list of books, filtering out any entries that do not have an associated author. By using a set comprehension, it ensures that duplicates are eliminated and, by using `yield from`, makes the result suitable for iteration in a generator context."
      ],
      "text/plain": [
       "<IPython.core.display.Markdown object>"
      ]
     },
     "metadata": {},
     "output_type": "display_data"
    }
   ],
   "source": [
    "# Get gpt-4o-mini to answer, with streaming\n",
    "\n",
    "stream = openai.chat.completions.create(model=MODEL_GPT, messages=messages,stream=True)\n",
    "    \n",
    "response = \"\"\n",
    "display_handle = display(Markdown(\"\"), display_id=True)\n",
    "for chunk in stream:\n",
    "    response += chunk.choices[0].delta.content or ''\n",
    "    response = response.replace(\"```\",\"\").replace(\"markdown\", \"\")\n",
    "    update_display(Markdown(response), display_id=display_handle.display_id)"
   ]
  },
  {
   "cell_type": "code",
   "execution_count": 8,
   "id": "8f7c8ea8-4082-4ad0-8751-3301adcf6538",
   "metadata": {},
   "outputs": [
    {
     "data": {
      "text/markdown": [
       "**Code Explanation**\n",
       "\n",
       "The given code snippet is written in Python. It appears to be part of a larger data processing pipeline, likely involving a dictionary (`books`) that contains multiple records (i.e., books) with nested key-value pairs.\n",
       "\n",
       "```python\n",
       "yield from {book.get(\"author\") for book in books if book.get(\"author\")}\n",
       "```\n",
       "\n",
       "Let's break down what this code does:\n",
       "\n",
       "1. **Dictionary comprehension**: `{book.get(\"author\") for book in books if book.get(\"author\")}`\n",
       "\n",
       "   This part of the code is a dictionary comprehension, which creates a new dictionary containing key-value pairs derived from the original data.\n",
       "\n",
       "   - `for book in books`: Iterates over each record (i.e., book) in the `books` dictionary.\n",
       "   - `if book.get(\"author\")`: Filters out records that do not have an \"author\" key or do not have a value associated with it. This ensures that only books with authors are processed further.\n",
       "\n",
       "2. **List comprehension inside a generator function (`yield from ...`)**\n",
       "\n",
       "   The resulting dictionary is then piped into the `yield from` statement, which converts this dictionary into a generator expression.\n",
       "\n",
       "   - `yield from {...}`: A shorthand way to generate an iterable by yielding values from each item in an existing iterable.\n",
       "   \n",
       "3. **Effect of `yield from`**:\n",
       "\n",
       "   When you use `yield from`, it \"lifts\" the iteration over `book.get(\"author\") for book in books if book.get(\"author\")` into a generator function, allowing each value to be yielded on demand instead of all at once.\n",
       "\n",
       "4. **Result**:\n",
       "   \n",
       "   The resulting generator yields authors as strings (or other types depending on the actual values in your data).\n",
       "\n",
       "**Example Use Case**\n",
       "\n",
       "Here's an example use case for this code snippet:\n",
       "\n",
       "```python\n",
       "import random\n",
       "\n",
       "# Create a dictionary with books and their authors\n",
       "books = {\n",
       "    \"book1\": {\"title\": \"Book 1\", \"author\": \"John Doe\"},\n",
       "    \"book2\": {\"title\": \"Book 2\", \"author\": \"Jane Smith\"},\n",
       "    # Add more records as needed...\n",
       "}\n",
       "\n",
       "def process_books(books):\n",
       "    yield from {book.get(\"author\") for book in books if book.get(\"author\")}\n",
       "\n",
       "# Use the generator function\n",
       "authors = list(process_books(books))\n",
       "\n",
       "for author in authors:\n",
       "    print(author)\n",
       "```\n",
       "\n",
       "This code will output:\n",
       "\n",
       "```\n",
       "John Doe\n",
       "Jane Smith\n",
       "# Other authors...\n",
       "```\n",
       "\n",
       "Note that the order of the output may vary depending on the Python version, implementation details, and other factors."
      ],
      "text/plain": [
       "<IPython.core.display.Markdown object>"
      ]
     },
     "metadata": {},
     "output_type": "display_data"
    }
   ],
   "source": [
    "# Get Llama 3.2 to answer\n",
    "\n",
    "response = ollama.chat(model=MODEL_LLAMA, messages=messages)\n",
    "reply = response['message']['content']\n",
    "display(Markdown(reply))"
   ]
  }
 ],
 "metadata": {
  "kernelspec": {
   "display_name": "Python 3 (ipykernel)",
   "language": "python",
   "name": "python3"
  },
  "language_info": {
   "codemirror_mode": {
    "name": "ipython",
    "version": 3
   },
   "file_extension": ".py",
   "mimetype": "text/x-python",
   "name": "python",
   "nbconvert_exporter": "python",
   "pygments_lexer": "ipython3",
   "version": "3.11.13"
  }
 },
 "nbformat": 4,
 "nbformat_minor": 5
}
